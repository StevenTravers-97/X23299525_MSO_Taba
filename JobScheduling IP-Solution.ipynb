{
 "cells": [
  {
   "cell_type": "code",
   "execution_count": 1,
   "id": "047ac0b5-0431-4ea3-a3f2-9ed54713bea0",
   "metadata": {},
   "outputs": [],
   "source": [
    "import random\n",
    "\n",
    "def generateData(machines=4, jobs=7, seed=0):\n",
    "    PROC = [ [ 0 for m in range(machines) ] for j in range(jobs) ]\n",
    "    random.seed(seed)\n",
    "    for j in range(jobs):\n",
    "        for m in range(machines):\n",
    "            PROC[j][m] = random.randint(1,9)\n",
    "    return PROC"
   ]
  },
  {
   "cell_type": "code",
   "execution_count": 2,
   "id": "519c7180-7401-4392-aa99-f5ad302f7937",
   "metadata": {},
   "outputs": [],
   "source": [
    "import pulp\n",
    "\n",
    "def IP(PROC):\n",
    "\n",
    "    steps = [ len(job) for job in PROC ]\n",
    "    assert(min(steps)==max(steps))\n",
    "    N_MACHINES = len(PROC[0])\n",
    "    N_JOBS = len(PROC)\n",
    "\n",
    "\n",
    "    def val(x):\n",
    "        return int(pulp.value(x))\n",
    "\n",
    "    def proc(job, machine):\n",
    "        return pulp.lpSum( [ PROC[j][machine] * JJ[job][j] for j in range(N_JOBS) ] ) \n",
    "\n",
    "    JJ = pulp.LpVariable.dicts(\"J\", (range(N_JOBS), range(N_JOBS)), lowBound=0, upBound=1, cat='Integer')\n",
    "    Wait = pulp.LpVariable.dicts(\"WAIT\", (range(N_JOBS), range(N_MACHINES)), lowBound=0, cat='Integer')\n",
    "    Idle = pulp.LpVariable.dicts(\"IDLE\", (range(N_JOBS), range(N_MACHINES)), lowBound=0, cat='Integer')\n",
    "    Start = pulp.LpVariable.dicts(\"START\", (range(N_JOBS), range(N_MACHINES)), lowBound=0, cat='Integer')\n",
    "    Stop = pulp.LpVariable.dicts(\"STOP\", (range(N_JOBS), range(N_MACHINES)), lowBound=0, cat='Integer')\n",
    "\n",
    "    prob = pulp.LpProblem(\"JobScheduling\",pulp.LpMinimize)\n",
    "    prob += Stop[N_JOBS-1][N_MACHINES-1]\n",
    "\n",
    "    # JJ is a permutation of the jobs\n",
    "    for j in range(N_JOBS):\n",
    "        prob += pulp.lpSum( [ JJ[j][jj] for jj in range(N_JOBS) ] ) == 1\n",
    "        prob += pulp.lpSum( [ JJ[jj][j] for jj in range(N_JOBS) ] ) == 1\n",
    "\n",
    "    for m in range(N_MACHINES):\n",
    "        for j in range(N_JOBS):\n",
    "            prob += pulp.lpSum( [ Idle[ji][m] + proc(ji, m) for ji in range(j) ] ) + Idle[j][m] == Start[j][m]\n",
    "\n",
    "    for m in range(N_MACHINES):\n",
    "        for j in range(N_JOBS):\n",
    "            prob += pulp.lpSum( [ Wait[j][mi] + proc(j, mi) for mi in range(m) ] ) + Wait[j][m] == Start[j][m]\n",
    "\n",
    "    for j in range(N_JOBS):\n",
    "        for m in range(N_MACHINES):\n",
    "            prob += Start[j][m] + proc(j,m) == Stop[j][m]\n",
    "\n",
    "    solvers = pulp.listSolvers(onlyAvailable=True) \n",
    "    solver = pulp.getSolver(solvers[0], msg=0)\n",
    "    prob.solve(solver)\n",
    "\n",
    "    acc = []\n",
    "    for j in range(N_JOBS):\n",
    "        for jj in range(N_JOBS):\n",
    "            if pulp.value(JJ[j][jj])==1:\n",
    "                acc.append(jj)\n",
    "                \n",
    "    return acc, int(pulp.value(prob.objective))"
   ]
  },
  {
   "cell_type": "code",
   "execution_count": 3,
   "id": "749c6fdd-d791-44af-a279-215508e0c1c1",
   "metadata": {},
   "outputs": [],
   "source": [
    "import numpy as np\n",
    "\n",
    "def totalTime(PROC, seq, log=False):\n",
    "    \n",
    "    def isPermutation(seq):\n",
    "        for i in range(len(seq)):\n",
    "            if i not in seq:\n",
    "                return False\n",
    "        return True\n",
    "    \n",
    "    steps = [ len(job) for job in PROC ]\n",
    "    assert(len(PROC) == len(seq))\n",
    "    assert(isPermutation(seq))\n",
    "    assert(min(steps)==max(steps))\n",
    "    n_machines = len(PROC[0])\n",
    "    n_jobs = len(PROC)\n",
    "    wait = np.zeros([n_jobs, n_machines], dtype=int)\n",
    "    idle = np.zeros([n_jobs, n_machines], dtype=int)\n",
    "    start = np.zeros([n_jobs, n_machines], dtype=int)\n",
    "    stop  = np.zeros([n_jobs, n_machines], dtype=int)\n",
    "    proc = np.zeros([n_jobs, n_machines], dtype=int)\n",
    "    for job in range(n_jobs):\n",
    "        proc[job] = PROC[seq[job]]\n",
    "    for job in range(n_jobs):\n",
    "        for machine in range(n_machines):\n",
    "            start[job, machine] = max(stop[job-1, machine] if job>0 else 0, stop[job, machine-1] if machine>0 else 0)\n",
    "            wait[job, machine] = start[job, machine] - (stop[job, machine-1] if machine>0 else 0)\n",
    "            idle[job, machine] = start[job, machine] - (stop[job-1, machine] if job>0 else 0)\n",
    "            stop[job, machine] = start[job, machine] + proc[job, machine]\n",
    "\n",
    "    if log:\n",
    "\n",
    "        row = '|---------|'\n",
    "        for m in range(n_machines):\n",
    "            row += f\"------------|\" \\\n",
    "                    f\"------------|\"\n",
    "        print(row)\n",
    "        \n",
    "        row = '|         |'\n",
    "        for m in range(n_machines):\n",
    "            row += f\"            |\" \\\n",
    "                    f\" Machine: {m:1d} |\"\n",
    "        print(row)\n",
    "        \n",
    "        for j in range(n_jobs):\n",
    "            \n",
    "            row = '|---------|'\n",
    "            for m in range(n_machines):\n",
    "                row += f\"------------|\" \\\n",
    "                       f\"------------|\"\n",
    "            print(row)\n",
    "            \n",
    "            row = '|         |'\n",
    "            for m in range(n_machines):\n",
    "                row += f\"       {' ':4s} | \" \\\n",
    "                       f\"Idle: {idle[j,m]:4d} |\"\n",
    "            print(row)\n",
    "            \n",
    "            row = '|---------|'\n",
    "            for m in range(n_machines):\n",
    "                row += f\"------------|\" \\\n",
    "                       f\"------------|\"\n",
    "            print(row)\n",
    "            \n",
    "            row = '|         |'\n",
    "            for m in range(n_machines):\n",
    "                row += f\"       {' ':4s} | \" \\\n",
    "                       f\"Start:{start[j,m]:4d} |\"  \n",
    "            print(row)\n",
    "            \n",
    "            row = f'| Job: {seq[j]:2d} |'\n",
    "            for m in range(n_machines):\n",
    "                row += f\" Wait: {wait[j,m]:4d} | \" \\\n",
    "                       f\"Proc: {proc[j,m]:4d} |\"\n",
    "            print(row)\n",
    "            \n",
    "            row = '|         |'\n",
    "            for m in range(n_machines):\n",
    "                row += f\"       {' ':4s} | \" \\\n",
    "                       f\"Stop: {stop[j,m]:4d} |\"  \n",
    "            print(row)\n",
    "            \n",
    "        row = '|---------|'\n",
    "        for m in range(n_machines):\n",
    "            row += f\"------------|\" \\\n",
    "                    f\"------------|\"\n",
    "        print(row)\n",
    "\n",
    "    \n",
    "    return stop[n_jobs-1, n_machines-1]                                                       "
   ]
  },
  {
   "cell_type": "code",
   "execution_count": 4,
   "id": "d17cd20b-c03b-465d-b468-a3c8fe23427f",
   "metadata": {},
   "outputs": [],
   "source": [
    "PROC = generateData(machines=4, jobs=7, seed=2)"
   ]
  },
  {
   "cell_type": "markdown",
   "id": "7629b33d-97c6-4d2a-a31f-65e45520a1e2",
   "metadata": {},
   "source": [
    "Compute the optimal job schedule:"
   ]
  },
  {
   "cell_type": "code",
   "execution_count": 5,
   "id": "c1ac5d36-9498-47e9-9599-ba7607a04416",
   "metadata": {},
   "outputs": [
    {
     "name": "stdout",
     "output_type": "stream",
     "text": [
      "[0, 2, 1, 6, 3, 5, 4]\n",
      "52\n"
     ]
    }
   ],
   "source": [
    "seq, proctime = IP(PROC)\n",
    "print(seq)\n",
    "print(proctime)"
   ]
  },
  {
   "cell_type": "markdown",
   "id": "70f001fe-ded6-4463-9524-910eddc241e5",
   "metadata": {},
   "source": [
    "Check the processing time and print the schedule"
   ]
  },
  {
   "cell_type": "code",
   "execution_count": 6,
   "id": "0c6a705c-9655-4343-9e34-07b4cf31ea09",
   "metadata": {},
   "outputs": [
    {
     "data": {
      "text/plain": [
       "52"
      ]
     },
     "execution_count": 6,
     "metadata": {},
     "output_type": "execute_result"
    }
   ],
   "source": [
    "totalTime(PROC, seq)"
   ]
  },
  {
   "cell_type": "code",
   "execution_count": 7,
   "id": "13805846-38f0-4006-a81d-4494b9e4089e",
   "metadata": {},
   "outputs": [
    {
     "name": "stdout",
     "output_type": "stream",
     "text": [
      "|---------|------------|------------|------------|------------|------------|------------|------------|------------|\n",
      "|         |            | Machine: 0 |            | Machine: 1 |            | Machine: 2 |            | Machine: 3 |\n",
      "|---------|------------|------------|------------|------------|------------|------------|------------|------------|\n",
      "|         |            | Idle:    0 |            | Idle:    1 |            | Idle:    3 |            | Idle:    5 |\n",
      "|---------|------------|------------|------------|------------|------------|------------|------------|------------|\n",
      "|         |            | Start:   0 |            | Start:   1 |            | Start:   3 |            | Start:   5 |\n",
      "| Job:  0 | Wait:    0 | Proc:    1 | Wait:    0 | Proc:    2 | Wait:    0 | Proc:    2 | Wait:    0 | Proc:    6 |\n",
      "|         |            | Stop:    1 |            | Stop:    3 |            | Stop:    5 |            | Stop:   11 |\n",
      "|---------|------------|------------|------------|------------|------------|------------|------------|------------|\n",
      "|         |            | Idle:    0 |            | Idle:    0 |            | Idle:    1 |            | Idle:    2 |\n",
      "|---------|------------|------------|------------|------------|------------|------------|------------|------------|\n",
      "|         |            | Start:   1 |            | Start:   3 |            | Start:   6 |            | Start:  13 |\n",
      "| Job:  2 | Wait:    1 | Proc:    1 | Wait:    1 | Proc:    3 | Wait:    0 | Proc:    7 | Wait:    0 | Proc:    7 |\n",
      "|         |            | Stop:    2 |            | Stop:    6 |            | Stop:   13 |            | Stop:   20 |\n",
      "|---------|------------|------------|------------|------------|------------|------------|------------|------------|\n",
      "|         |            | Idle:    0 |            | Idle:    0 |            | Idle:    0 |            | Idle:    0 |\n",
      "|---------|------------|------------|------------|------------|------------|------------|------------|------------|\n",
      "|         |            | Start:   2 |            | Start:   6 |            | Start:  13 |            | Start:  20 |\n",
      "| Job:  1 | Wait:    2 | Proc:    3 | Wait:    1 | Proc:    5 | Wait:    2 | Proc:    5 | Wait:    2 | Proc:    4 |\n",
      "|         |            | Stop:    5 |            | Stop:   11 |            | Stop:   18 |            | Stop:   24 |\n",
      "|---------|------------|------------|------------|------------|------------|------------|------------|------------|\n",
      "|         |            | Idle:    0 |            | Idle:    1 |            | Idle:    3 |            | Idle:    0 |\n",
      "|---------|------------|------------|------------|------------|------------|------------|------------|------------|\n",
      "|         |            | Start:   5 |            | Start:  12 |            | Start:  21 |            | Start:  24 |\n",
      "| Job:  6 | Wait:    5 | Proc:    7 | Wait:    0 | Proc:    9 | Wait:    0 | Proc:    3 | Wait:    0 | Proc:    9 |\n",
      "|         |            | Stop:   12 |            | Stop:   21 |            | Stop:   24 |            | Stop:   33 |\n",
      "|---------|------------|------------|------------|------------|------------|------------|------------|------------|\n",
      "|         |            | Idle:    0 |            | Idle:    0 |            | Idle:    3 |            | Idle:    3 |\n",
      "|---------|------------|------------|------------|------------|------------|------------|------------|------------|\n",
      "|         |            | Start:  12 |            | Start:  21 |            | Start:  27 |            | Start:  36 |\n",
      "| Job:  3 | Wait:   12 | Proc:    9 | Wait:    0 | Proc:    6 | Wait:    0 | Proc:    9 | Wait:    0 | Proc:    8 |\n",
      "|         |            | Stop:   21 |            | Stop:   27 |            | Stop:   36 |            | Stop:   44 |\n",
      "|---------|------------|------------|------------|------------|------------|------------|------------|------------|\n",
      "|         |            | Idle:    0 |            | Idle:    0 |            | Idle:    0 |            | Idle:    0 |\n",
      "|---------|------------|------------|------------|------------|------------|------------|------------|------------|\n",
      "|         |            | Start:  21 |            | Start:  27 |            | Start:  36 |            | Start:  44 |\n",
      "| Job:  5 | Wait:   21 | Proc:    6 | Wait:    0 | Proc:    8 | Wait:    1 | Proc:    6 | Wait:    2 | Proc:    7 |\n",
      "|         |            | Stop:   27 |            | Stop:   35 |            | Stop:   42 |            | Stop:   51 |\n",
      "|---------|------------|------------|------------|------------|------------|------------|------------|------------|\n",
      "|         |            | Idle:    0 |            | Idle:    1 |            | Idle:    0 |            | Idle:    0 |\n",
      "|---------|------------|------------|------------|------------|------------|------------|------------|------------|\n",
      "|         |            | Start:  27 |            | Start:  36 |            | Start:  42 |            | Start:  51 |\n",
      "| Job:  4 | Wait:   27 | Proc:    9 | Wait:    0 | Proc:    5 | Wait:    1 | Proc:    1 | Wait:    8 | Proc:    1 |\n",
      "|         |            | Stop:   36 |            | Stop:   41 |            | Stop:   43 |            | Stop:   52 |\n",
      "|---------|------------|------------|------------|------------|------------|------------|------------|------------|\n"
     ]
    },
    {
     "data": {
      "text/plain": [
       "52"
      ]
     },
     "execution_count": 7,
     "metadata": {},
     "output_type": "execute_result"
    }
   ],
   "source": [
    "totalTime(PROC, seq, log=True)"
   ]
  }
 ],
 "metadata": {
  "kernelspec": {
   "display_name": "Python 3 (ipykernel)",
   "language": "python",
   "name": "python3"
  },
  "language_info": {
   "codemirror_mode": {
    "name": "ipython",
    "version": 3
   },
   "file_extension": ".py",
   "mimetype": "text/x-python",
   "name": "python",
   "nbconvert_exporter": "python",
   "pygments_lexer": "ipython3",
   "version": "3.11.6"
  }
 },
 "nbformat": 4,
 "nbformat_minor": 5
}
