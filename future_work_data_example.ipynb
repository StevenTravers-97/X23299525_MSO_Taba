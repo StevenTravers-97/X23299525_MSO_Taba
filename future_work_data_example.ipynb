{
 "cells": [
  {
   "cell_type": "markdown",
   "metadata": {},
   "source": [
    "# Future work extra machine example\n"
   ]
  },
  {
   "cell_type": "markdown",
   "metadata": {},
   "source": [
    "For this code, the time for machine 3 was adjusted to highlight a real world scenario where a particular machine takes longer to produce the order. "
   ]
  },
  {
   "cell_type": "code",
   "execution_count": 15,
   "metadata": {},
   "outputs": [],
   "source": [
    "import random\n",
    "import matplotlib.pyplot as plt\n",
    "def generateData_futurework(machines=4, jobs=7, seed=0):\n",
    "    PROC = [ [ 0 for m in range(machines) ] for j in range(jobs) ]\n",
    "    random.seed(seed)\n",
    "    for j in range(jobs):\n",
    "        ''' ADJUSTED CODE'''\n",
    "        for m in range(machines):\n",
    "            if m ==2:\n",
    "                PROC[j][m] = random.randint(5,9)\n",
    "            else:\n",
    "                PROC[j][m] = random.randint(1,9)\n",
    "    return PROC"
   ]
  },
  {
   "cell_type": "code",
   "execution_count": 16,
   "metadata": {},
   "outputs": [
    {
     "name": "stdout",
     "output_type": "stream",
     "text": [
      "[[3, 5, 7, 6], [4, 8, 7, 4], [9, 4, 7, 4], [6, 5, 9, 2], [7, 9, 5, 4], [8, 8, 6, 4], [8, 2, 8, 9], [9, 5, 6, 8], [5, 4, 7, 1], [7, 5, 8, 2], [1, 6, 7, 9], [7, 3, 8, 1], [2, 4, 5, 8], [3, 5, 7, 2], [3, 9, 5, 5], [9, 8, 5, 9], [7, 9, 7, 1], [2, 5, 5, 8], [1, 5, 5, 9], [5, 4, 8, 9], [2, 3, 8, 3], [1, 4, 6, 5], [2, 6, 9, 3], [7, 2, 7, 8], [7, 3, 7, 9], [5, 9, 9, 3], [9, 4, 5, 1], [5, 5, 9, 3], [1, 2, 7, 2], [4, 4, 5, 4], [2, 8, 5, 1], [8, 5, 7, 8], [5, 3, 9, 9], [1, 5, 9, 9], [9, 1, 6, 9], [5, 9, 9, 4], [1, 5, 7, 6], [1, 1, 7, 6], [3, 3, 7, 1], [4, 3, 8, 6], [1, 2, 5, 1], [7, 5, 7, 2], [5, 8, 9, 1], [6, 6, 6, 4], [5, 7, 5, 4], [1, 2, 8, 6], [4, 3, 6, 7], [4, 4, 9, 2], [6, 2, 8, 5], [8, 6, 5, 8], [7, 1, 8, 6], [1, 8, 9, 3], [3, 1, 6, 7], [9, 5, 8, 4], [8, 8, 9, 7], [8, 4, 8, 2], [5, 8, 9, 8], [1, 3, 8, 9], [8, 9, 6, 6], [3, 3, 6, 3], [9, 3, 7, 6], [1, 8, 7, 8], [7, 3, 8, 1], [1, 9, 8, 1], [6, 9, 9, 2], [5, 4, 6, 8], [9, 3, 9, 2], [2, 1, 6, 4], [2, 4, 6, 8], [4, 5, 8, 5], [8, 7, 5, 9], [1, 8, 6, 5], [5, 3, 7, 5], [9, 6, 6, 3], [3, 3, 9, 6], [6, 4, 5, 2], [8, 9, 9, 3], [4, 1, 9, 9], [2, 4, 6, 4], [3, 2, 6, 2], [5, 4, 6, 7], [8, 2, 5, 4], [2, 7, 8, 8], [3, 7, 6, 6], [5, 3, 8, 9], [1, 7, 5, 6], [8, 1, 6, 1], [4, 1, 8, 7], [1, 9, 7, 2], [3, 7, 7, 2], [9, 9, 7, 7], [3, 6, 8, 3], [8, 5, 6, 5], [1, 8, 9, 4], [6, 7, 5, 4], [1, 3, 5, 6], [4, 5, 6, 2], [4, 1, 5, 2], [9, 9, 7, 5], [8, 7, 7, 3]]\n"
     ]
    }
   ],
   "source": [
    "PROC = generateData_futurework(machines=4, jobs=100, seed=9525)\n",
    "print(PROC)"
   ]
  },
  {
   "cell_type": "markdown",
   "metadata": {},
   "source": [
    "## Linear Programming code from lecturer - Unchanged from what was provided"
   ]
  },
  {
   "cell_type": "code",
   "execution_count": 17,
   "metadata": {},
   "outputs": [],
   "source": [
    "import pulp\n",
    "\n",
    "def IP(PROC):\n",
    "\n",
    "    steps = [ len(job) for job in PROC ]\n",
    "    assert(min(steps)==max(steps))\n",
    "    N_MACHINES = len(PROC[0])\n",
    "    N_JOBS = len(PROC)\n",
    "\n",
    "\n",
    "    def val(x):\n",
    "        return int(pulp.value(x))\n",
    "\n",
    "    def proc(job, machine):\n",
    "        return pulp.lpSum( [ PROC[j][machine] * JJ[job][j] for j in range(N_JOBS) ] ) \n",
    "\n",
    "    JJ = pulp.LpVariable.dicts(\"J\", (range(N_JOBS), range(N_JOBS)), lowBound=0, upBound=1, cat='Integer')\n",
    "    Wait = pulp.LpVariable.dicts(\"WAIT\", (range(N_JOBS), range(N_MACHINES)), lowBound=0, cat='Integer')\n",
    "    Idle = pulp.LpVariable.dicts(\"IDLE\", (range(N_JOBS), range(N_MACHINES)), lowBound=0, cat='Integer')\n",
    "    Start = pulp.LpVariable.dicts(\"START\", (range(N_JOBS), range(N_MACHINES)), lowBound=0, cat='Integer')\n",
    "    Stop = pulp.LpVariable.dicts(\"STOP\", (range(N_JOBS), range(N_MACHINES)), lowBound=0, cat='Integer')\n",
    "\n",
    "    prob = pulp.LpProblem(\"JobScheduling\",pulp.LpMinimize)\n",
    "    prob += Stop[N_JOBS-1][N_MACHINES-1]\n",
    "\n",
    "    # JJ is a permutation of the jobs\n",
    "    for j in range(N_JOBS):\n",
    "        prob += pulp.lpSum( [ JJ[j][jj] for jj in range(N_JOBS) ] ) == 1\n",
    "        prob += pulp.lpSum( [ JJ[jj][j] for jj in range(N_JOBS) ] ) == 1\n",
    "\n",
    "    for m in range(N_MACHINES):\n",
    "        for j in range(N_JOBS):\n",
    "            prob += pulp.lpSum( [ Idle[ji][m] + proc(ji, m) for ji in range(j) ] ) + Idle[j][m] == Start[j][m]\n",
    "\n",
    "    for m in range(N_MACHINES):\n",
    "        for j in range(N_JOBS):\n",
    "            prob += pulp.lpSum( [ Wait[j][mi] + proc(j, mi) for mi in range(m) ] ) + Wait[j][m] == Start[j][m]\n",
    "\n",
    "    for j in range(N_JOBS):\n",
    "        for m in range(N_MACHINES):\n",
    "            prob += Start[j][m] + proc(j,m) == Stop[j][m]\n",
    "\n",
    "    solvers = pulp.listSolvers(onlyAvailable=True) \n",
    "    solver = pulp.getSolver(solvers[0], msg=0)\n",
    "    prob.solve(solver)\n",
    "\n",
    "    acc = []\n",
    "    for j in range(N_JOBS):\n",
    "        for jj in range(N_JOBS):\n",
    "            if pulp.value(JJ[j][jj])==1:\n",
    "                acc.append(jj)\n",
    "                \n",
    "    return acc, int(pulp.value(prob.objective))"
   ]
  },
  {
   "cell_type": "code",
   "execution_count": 18,
   "metadata": {},
   "outputs": [],
   "source": [
    "import numpy as np\n",
    "\n",
    "def totalTime(PROC, seq, log=False):\n",
    "    \n",
    "    def isPermutation(seq):\n",
    "        for i in range(len(seq)):\n",
    "            if i not in seq:\n",
    "                return False\n",
    "        return True\n",
    "    \n",
    "    steps = [ len(job) for job in PROC ]\n",
    "    assert(len(PROC) == len(seq))\n",
    "    assert(isPermutation(seq))\n",
    "    assert(min(steps)==max(steps))\n",
    "    n_machines = len(PROC[0])\n",
    "    n_jobs = len(PROC)\n",
    "    wait = np.zeros([n_jobs, n_machines], dtype=int)\n",
    "    idle = np.zeros([n_jobs, n_machines], dtype=int)\n",
    "    start = np.zeros([n_jobs, n_machines], dtype=int)\n",
    "    stop  = np.zeros([n_jobs, n_machines], dtype=int)\n",
    "    proc = np.zeros([n_jobs, n_machines], dtype=int)\n",
    "    for job in range(n_jobs):\n",
    "        proc[job] = PROC[seq[job]]\n",
    "    for job in range(n_jobs):\n",
    "        for machine in range(n_machines):\n",
    "            start[job, machine] = max(stop[job-1, machine] if job>0 else 0, stop[job, machine-1] if machine>0 else 0)\n",
    "            wait[job, machine] = start[job, machine] - (stop[job, machine-1] if machine>0 else 0)\n",
    "            idle[job, machine] = start[job, machine] - (stop[job-1, machine] if job>0 else 0)\n",
    "            stop[job, machine] = start[job, machine] + proc[job, machine]\n",
    "\n",
    "    if log:\n",
    "\n",
    "        row = '|---------|'\n",
    "        for m in range(n_machines):\n",
    "            row += f\"------------|\" \\\n",
    "                    f\"------------|\"\n",
    "        print(row)\n",
    "        \n",
    "        row = '|         |'\n",
    "        for m in range(n_machines):\n",
    "            row += f\"            |\" \\\n",
    "                    f\" Machine: {m:1d} |\"\n",
    "        print(row)\n",
    "        \n",
    "        for j in range(n_jobs):\n",
    "            \n",
    "            row = '|---------|'\n",
    "            for m in range(n_machines):\n",
    "                row += f\"------------|\" \\\n",
    "                       f\"------------|\"\n",
    "            print(row)\n",
    "            \n",
    "            row = '|         |'\n",
    "            for m in range(n_machines):\n",
    "                row += f\"       {' ':4s} | \" \\\n",
    "                       f\"Idle: {idle[j,m]:4d} |\"\n",
    "            print(row)\n",
    "            \n",
    "            row = '|---------|'\n",
    "            for m in range(n_machines):\n",
    "                row += f\"------------|\" \\\n",
    "                       f\"------------|\"\n",
    "            print(row)\n",
    "            \n",
    "            row = '|         |'\n",
    "            for m in range(n_machines):\n",
    "                row += f\"       {' ':4s} | \" \\\n",
    "                       f\"Start:{start[j,m]:4d} |\"  \n",
    "            print(row)\n",
    "            \n",
    "            row = f'| Job: {seq[j]:2d} |'\n",
    "            for m in range(n_machines):\n",
    "                row += f\" Wait: {wait[j,m]:4d} | \" \\\n",
    "                       f\"Proc: {proc[j,m]:4d} |\"\n",
    "            print(row)\n",
    "            \n",
    "            row = '|         |'\n",
    "            for m in range(n_machines):\n",
    "                row += f\"       {' ':4s} | \" \\\n",
    "                       f\"Stop: {stop[j,m]:4d} |\"  \n",
    "            print(row)\n",
    "            \n",
    "        row = '|---------|'\n",
    "        for m in range(n_machines):\n",
    "            row += f\"------------|\" \\\n",
    "                    f\"------------|\"\n",
    "        print(row)\n",
    "\n",
    "    \n",
    "    return stop[n_jobs-1, n_machines-1]                                                       "
   ]
  },
  {
   "cell_type": "markdown",
   "metadata": {},
   "source": [
    "## New Code to graph example"
   ]
  },
  {
   "cell_type": "code",
   "execution_count": 19,
   "metadata": {},
   "outputs": [
    {
     "name": "stdout",
     "output_type": "stream",
     "text": [
      "[37, 45, 43, 87, 70, 20, 5, 2, 76, 99, 23, 44, 30, 29, 47, 59, 86, 64, 41, 65, 24, 79, 51, 72, 34, 40, 74, 31, 61, 89, 90, 73, 13, 46, 53, 97, 56, 98, 7, 22, 17, 52, 48, 95, 28, 69, 15, 19, 63, 91, 10, 92, 83, 0, 1, 75, 84, 6, 71, 54, 57, 50, 81, 21, 3, 58, 78, 12, 4, 68, 8, 60, 36, 32, 62, 66, 55, 35, 26, 42, 39, 25, 93, 18, 9, 96, 94, 38, 27, 88, 14, 82, 49, 77, 33, 11, 67, 85, 80, 16]\n",
      "699\n"
     ]
    },
    {
     "data": {
      "text/plain": [
       "699"
      ]
     },
     "execution_count": 19,
     "metadata": {},
     "output_type": "execute_result"
    }
   ],
   "source": [
    "seq, proctime = IP(PROC)\n",
    "print(seq)\n",
    "print(proctime)\n",
    "totalTime(PROC, seq)"
   ]
  },
  {
   "cell_type": "code",
   "execution_count": 34,
   "metadata": {},
   "outputs": [
    {
     "name": "stdout",
     "output_type": "stream",
     "text": [
      "Machine 1    4.76\n",
      "Machine 2    4.97\n",
      "Machine 3    6.96\n",
      "Machine 4    4.86\n",
      "dtype: float64\n"
     ]
    }
   ],
   "source": [
    "import pandas as pd\n",
    "\n",
    "df = pd.DataFrame(PROC)\n",
    "df.columns = [\"Machine 1\",\"Machine 2\",\"Machine 3\",\"Machine 4\"]"
   ]
  },
  {
   "cell_type": "code",
   "execution_count": 35,
   "metadata": {},
   "outputs": [
    {
     "name": "stdout",
     "output_type": "stream",
     "text": [
      "Machine 1    4.76\n",
      "Machine 2    4.97\n",
      "Machine 3    6.96\n",
      "Machine 4    4.86\n",
      "dtype: float64\n"
     ]
    },
    {
     "data": {
      "image/png": "[encoded data removed]",
      "text/plain": [
       "<Figure size 640x480 with 1 Axes>"
      ]
     },
     "metadata": {},
     "output_type": "display_data"
    }
   ],
   "source": [
    "means = df.mean()\n",
    "print(means)\n",
    "means.plot.bar(xlabel= 'Machine Number', ylabel = 'Average Time (hours)',title = 'Time taken for each machine', color = ['b','b','r','b'])\n",
    "plt.savefig('output_figures/future_work_example.png')\n",
    "#plt.errorbar(df.index)"
   ]
  }
 ],
 "metadata": {
  "kernelspec": {
   "display_name": "base",
   "language": "python",
   "name": "python3"
  },
  "language_info": {
   "codemirror_mode": {
    "name": "ipython",
    "version": 3
   },
   "file_extension": ".py",
   "mimetype": "text/x-python",
   "name": "python",
   "nbconvert_exporter": "python",
   "pygments_lexer": "ipython3",
   "version": "3.11.7"
  }
 },
 "nbformat": 4,
 "nbformat_minor": 2
}
